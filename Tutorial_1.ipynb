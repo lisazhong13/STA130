{
 "cells": [
  {
   "cell_type": "code",
   "execution_count": 6,
   "id": "407d851b",
   "metadata": {},
   "outputs": [
    {
     "data": {
      "text/html": [
       "<div>\n",
       "<style scoped>\n",
       "    .dataframe tbody tr th:only-of-type {\n",
       "        vertical-align: middle;\n",
       "    }\n",
       "\n",
       "    .dataframe tbody tr th {\n",
       "        vertical-align: top;\n",
       "    }\n",
       "\n",
       "    .dataframe thead th {\n",
       "        text-align: right;\n",
       "    }\n",
       "</style>\n",
       "<table border=\"1\" class=\"dataframe\">\n",
       "  <thead>\n",
       "    <tr style=\"text-align: right;\">\n",
       "      <th></th>\n",
       "      <th>Year</th>\n",
       "      <th>Total</th>\n",
       "      <th>Gas Fuel</th>\n",
       "      <th>Liquid Fuel</th>\n",
       "      <th>Solid Fuel</th>\n",
       "      <th>Cement</th>\n",
       "      <th>Gas Flaring</th>\n",
       "      <th>Per Capita</th>\n",
       "    </tr>\n",
       "  </thead>\n",
       "  <tbody>\n",
       "    <tr>\n",
       "      <th>0</th>\n",
       "      <td>1751</td>\n",
       "      <td>3</td>\n",
       "      <td>0</td>\n",
       "      <td>0</td>\n",
       "      <td>3</td>\n",
       "      <td>0</td>\n",
       "      <td>0</td>\n",
       "      <td>NaN</td>\n",
       "    </tr>\n",
       "    <tr>\n",
       "      <th>1</th>\n",
       "      <td>1752</td>\n",
       "      <td>3</td>\n",
       "      <td>0</td>\n",
       "      <td>0</td>\n",
       "      <td>3</td>\n",
       "      <td>0</td>\n",
       "      <td>0</td>\n",
       "      <td>NaN</td>\n",
       "    </tr>\n",
       "    <tr>\n",
       "      <th>2</th>\n",
       "      <td>1753</td>\n",
       "      <td>3</td>\n",
       "      <td>0</td>\n",
       "      <td>0</td>\n",
       "      <td>3</td>\n",
       "      <td>0</td>\n",
       "      <td>0</td>\n",
       "      <td>NaN</td>\n",
       "    </tr>\n",
       "    <tr>\n",
       "      <th>3</th>\n",
       "      <td>1754</td>\n",
       "      <td>3</td>\n",
       "      <td>0</td>\n",
       "      <td>0</td>\n",
       "      <td>3</td>\n",
       "      <td>0</td>\n",
       "      <td>0</td>\n",
       "      <td>NaN</td>\n",
       "    </tr>\n",
       "    <tr>\n",
       "      <th>4</th>\n",
       "      <td>1755</td>\n",
       "      <td>3</td>\n",
       "      <td>0</td>\n",
       "      <td>0</td>\n",
       "      <td>3</td>\n",
       "      <td>0</td>\n",
       "      <td>0</td>\n",
       "      <td>NaN</td>\n",
       "    </tr>\n",
       "  </tbody>\n",
       "</table>\n",
       "</div>"
      ],
      "text/plain": [
       "   Year  Total  Gas Fuel  Liquid Fuel  Solid Fuel  Cement  Gas Flaring  \\\n",
       "0  1751      3         0            0           3       0            0   \n",
       "1  1752      3         0            0           3       0            0   \n",
       "2  1753      3         0            0           3       0            0   \n",
       "3  1754      3         0            0           3       0            0   \n",
       "4  1755      3         0            0           3       0            0   \n",
       "\n",
       "   Per Capita  \n",
       "0         NaN  \n",
       "1         NaN  \n",
       "2         NaN  \n",
       "3         NaN  \n",
       "4         NaN  "
      ]
     },
     "execution_count": 6,
     "metadata": {},
     "output_type": "execute_result"
    }
   ],
   "source": [
    "import pandas as pd\n",
    "\n",
    "# Direct URL to the dataset (CSV)\n",
    "url = \"https://raw.githubusercontent.com/datasets/co2-fossil-global/master/global.csv\"\n",
    "\n",
    "# Load the dataset into a Pandas DataFrame\n",
    "co2_data = pd.read_csv(url)\n",
    "\n",
    "# Display the first few rows of the dataset\n",
    "co2_data.head()\n",
    "\n"
   ]
  },
  {
   "cell_type": "code",
   "execution_count": 7,
   "id": "0d22e279",
   "metadata": {},
   "outputs": [
    {
     "name": "stdout",
     "output_type": "stream",
     "text": [
      "Year             0\n",
      "Total            0\n",
      "Gas Fuel         0\n",
      "Liquid Fuel      0\n",
      "Solid Fuel       0\n",
      "Cement           0\n",
      "Gas Flaring      0\n",
      "Per Capita     199\n",
      "dtype: int64\n"
     ]
    }
   ],
   "source": [
    "# Get the count of missing values in each column\n",
    "missing_data_counts = co2_data.isnull().sum()\n",
    "\n",
    "# Display the missing data counts\n",
    "print(missing_data_counts)"
   ]
  },
  {
   "cell_type": "markdown",
   "id": "ef775f46",
   "metadata": {},
   "source": [
    "**Summary of Interaction:**\n",
    "\n",
    "We discussed finding an amusing or interesting dataset for your assignment. I provided several datasets, including ones from Spotify, Dogs of Instagram, Speed Dating experiments, and Pokemon. Upon requesting direct URLs for these datasets, we explored multiple options.\n",
    "\n",
    "- Initially, I suggested datasets from Kaggle, but they required authentication, which wasn't ideal for your needs.\n",
    "- I then provided direct URLs to publicly available datasets. For example, we tried fetching data from The Pudding's \"Song Repetitiveness\" dataset, but that link was not functional.\n",
    "- After that, I gave you a dataset URL from **Inside Airbnb**, which also didn't work.\n",
    "- Finally, I provided a functioning URL for a **Global CO2 Emissions dataset** on GitHub, which you successfully accessed.\n",
    "\n",
    "You then requested help to count missing data in the dataset, for which I shared a Python snippet using `isnull().sum()` to calculate the number of missing values in each column.\n",
    "\n",
    "This summary reflects our interaction and covers the dataset exploration, Python coding assistance, and handling missing data, which aligns with your assignment requirements."
   ]
  },
  {
   "cell_type": "code",
   "execution_count": null,
   "id": "638c0092",
   "metadata": {},
   "outputs": [],
   "source": []
  }
 ],
 "metadata": {
  "kernelspec": {
   "display_name": "Python 3 (ipykernel)",
   "language": "python",
   "name": "python3"
  },
  "language_info": {
   "codemirror_mode": {
    "name": "ipython",
    "version": 3
   },
   "file_extension": ".py",
   "mimetype": "text/x-python",
   "name": "python",
   "nbconvert_exporter": "python",
   "pygments_lexer": "ipython3",
   "version": "3.11.6"
  }
 },
 "nbformat": 4,
 "nbformat_minor": 5
}
